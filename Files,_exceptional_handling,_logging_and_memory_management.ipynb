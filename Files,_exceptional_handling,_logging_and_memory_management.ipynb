{
  "nbformat": 4,
  "nbformat_minor": 0,
  "metadata": {
    "colab": {
      "provenance": []
    },
    "kernelspec": {
      "name": "python3",
      "display_name": "Python 3"
    },
    "language_info": {
      "name": "python"
    }
  },
  "cells": [
    {
      "cell_type": "markdown",
      "source": [
        "#Theory Questions\n"
      ],
      "metadata": {
        "id": "tu02agz8vset"
      }
    },
    {
      "cell_type": "markdown",
      "source": [
        "1. What is the difference between interpreted and compiled languages?\n",
        "   - Interpreted languages execute code line by line at runtime (e.g., Python), while compiled languages convert code to machine language before execution (e.g., C++), resulting in faster execution but less flexibility.\n",
        "\n",
        "2. What is exception handling in Python?\n",
        "   - Exception handling in Python allows you to catch and respond to runtime errors using try, except, else, and finally blocks, preventing program crashes.\n",
        "\n",
        "3. What is the purpose of the finally block in exception handling?\n",
        "   - The finally block ensures that cleanup code runs regardless of whether an exception occurred or not, such as closing files or releasing resources.\n",
        "\n",
        "4. What is logging in Python?\n",
        "   - Logging in Python records events or errors during program execution, making it easier to debug and monitor programs instead of using print statements.\n",
        "\n",
        "5. What is the significance of the __del__ method in Python?\n",
        "   - The __del__ method is a destructor in Python, automatically called when an object is about to be destroyed, typically used for cleanup tasks.\n",
        "\n",
        "6. What is the difference between import and from ... import in Python?\n",
        "   - import loads the entire module, requiring you to prefix functions with the module name, while from ... import lets you directly use specific functions or classes without the module prefix.\n",
        "\n",
        "7. How can you handle multiple exceptions in Python?\n",
        "   - You can handle multiple exceptions using multiple except blocks or a single block with a tuple of exceptions, allowing specific or grouped error handling.\n",
        "\n",
        "8. What is the purpose of the with statement when handling files in Python?\n",
        "   - The with statement ensures proper acquisition and release of resources, like automatically closing a file after operations, even if an error occurs.\n",
        "\n",
        "9. What is the difference between multithreading and multiprocessing?\n",
        "   - Multithreading runs multiple threads in the same process, suitable for I/O-bound tasks, while multiprocessing runs separate processes, ideal for CPU-bound tasks to bypass the Global Interpreter Lock (GIL).\n",
        "\n",
        "10. What are the advantages of using logging in a program?\n",
        "   - Logging helps track application behavior, diagnose issues, maintain error records, and manage output levels without cluttering the code with print statements.\n",
        "\n",
        "11. What is memory management in Python?\n",
        "   - Python uses automatic memory management with reference counting and garbage collection, ensuring efficient allocation and deallocation of memory to objects.\n",
        "\n",
        "12. What are the basic steps involved in exception handling in Python?\n",
        "   - Basic steps include wrapping code in a try block, using except to catch errors, optionally using else for code if no exception occurs, and finally for cleanup.\n",
        "\n",
        "13. Why is memory management important in Python?\n",
        "   - Proper memory management avoids memory leaks, ensures efficient resource use, and prevents crashes or slowdowns due to excessive memory consumption.\n",
        "\n",
        "14. What is the role of try and except in exception handling?\n",
        "   - The try block contains code that might raise exceptions, while except catches and handles those exceptions, preventing the program from crashing.\n",
        "\n",
        "15. How does Python's garbage collection system work?\n",
        "   - Python's garbage collector automatically reclaims memory from objects no longer in use by tracking reference counts and detecting circular references.\n",
        "\n",
        "16. What is the purpose of the else block in exception handling?\n",
        "   - The else block runs only if the try block doesn't raise an exception, allowing clean separation between successful and error-handling code.\n",
        "   \n",
        "17. What are the common logging levels in Python?\n",
        "   - Python's logging levels include DEBUG, INFO, WARNING, ERROR, and CRITICAL, indicating increasing levels of severity and importance of messages.\n",
        "\n",
        "18. What is the difference between os.fork() and multiprocessing in Python?\n",
        "   - os.fork() creates a child process by duplicating the current one, mostly on Unix, while multiprocessing is a cross-platform module that simplifies creating and managing processes.\n",
        "\n",
        "19. What is the importance of closing a file in Python?\n",
        "   - Closing a file frees system resources, ensures data is properly written to disk, and prevents data corruption or memory leaks.\n",
        "\n",
        "20. What is the difference between file.read() and file.readline() in Python?\n",
        "   - file.read() reads the entire file content at once, while file.readline() reads only a single line, useful for memory-efficient line-by-line reading.\n",
        "  \n",
        "21. What is the logging module in Python used for?\n",
        "   - The logging module provides a flexible framework for emitting log messages from Python programs, enabling easier debugging and monitoring.\n",
        "\n",
        "22. What is the os module in Python used for in file handling?\n",
        "   - The os module allows interaction with the operating system, enabling tasks like file creation, deletion, path navigation, and environment variable access.\n",
        "\n",
        "23. What are the challenges associated with memory management in Python?\n",
        "   - Challenges include dealing with circular references, managing large data efficiently, and understanding memory leaks caused by lingering references.\n",
        "\n",
        "24. How do you raise an exception manually in Python?\n",
        "   - You can raise exceptions manually using the raise keyword followed by an exception type, e.g., raise ValueError(\"Invalid input\").\n",
        "\n",
        "25. Why is it important to use multithreading in certain applications?\n",
        "   - Multithreading is useful for improving performance in I/O-bound applications, such as web servers or file operations, by running tasks concurrently."
      ],
      "metadata": {
        "id": "t5Mx2wMDv8Tx"
      }
    },
    {
      "cell_type": "markdown",
      "source": [
        "#Practical Questions"
      ],
      "metadata": {
        "id": "Enhbe2a7y_J5"
      }
    },
    {
      "cell_type": "code",
      "source": [
        "# How can you open a file for writing in Python and write a string to it?\n",
        "\n",
        "with open(\"example.txt\", \"w\") as file:\n",
        "    file.write(\"Hello, world!\")\n"
      ],
      "metadata": {
        "id": "-IDeRpBkzG6E"
      },
      "execution_count": null,
      "outputs": []
    },
    {
      "cell_type": "code",
      "execution_count": null,
      "metadata": {
        "id": "ibcQW1DYvoHN"
      },
      "outputs": [],
      "source": [
        "# Write a Python program to read the contents of a file and print each line\n",
        "\n",
        "with open(\"example.txt\", \"r\") as file:\n",
        "    for line in file:\n",
        "        print(line.strip())\n"
      ]
    },
    {
      "cell_type": "code",
      "source": [
        "# How would you handle a case where the file doesn't exist while trying to open it for reading?\n",
        "\n",
        "try:\n",
        "    with open(\"example.txt\", \"r\") as file:\n",
        "        for line in file:\n",
        "            print(line.strip())\n",
        "except FileNotFoundError:\n",
        "    print(\"The file does not exist.\")\n"
      ],
      "metadata": {
        "id": "E2Q4IRCHzsDh"
      },
      "execution_count": null,
      "outputs": []
    },
    {
      "cell_type": "code",
      "source": [
        "# Write a Python script that reads from one file and writes its content to another file?\n",
        "\n",
        "with open(\"source.txt\", \"r\") as source_file:\n",
        "    content = source_file.read()\n",
        "\n",
        "with open(\"destination.txt\", \"w\") as destination_file:\n",
        "    destination_file.write(content)\n"
      ],
      "metadata": {
        "id": "eIOLM5bLzsAv"
      },
      "execution_count": null,
      "outputs": []
    },
    {
      "cell_type": "code",
      "source": [
        "# How would you catch and handle division by zero error in Python?\n",
        "\n",
        "try:\n",
        "    result = 10 / 0\n",
        "except ZeroDivisionError:\n",
        "    print(\"Error: Division by zero is not allowed.\")\n"
      ],
      "metadata": {
        "id": "k3khC9czzr9c"
      },
      "execution_count": null,
      "outputs": []
    },
    {
      "cell_type": "code",
      "source": [
        "# Write a Python program that logs an error message to a log file when a division by zero exception occurs.\n",
        "\n",
        "import logging\n",
        "\n",
        "logging.basicConfig(filename=\"error.log\", level=logging.ERROR)\n",
        "\n",
        "try:\n",
        "    result = 10 / 0\n",
        "except ZeroDivisionError as e:\n",
        "    logging.error(\"Division by zero error occurred: %s\", e)\n"
      ],
      "metadata": {
        "id": "Rte9FD1Gzr6u"
      },
      "execution_count": null,
      "outputs": []
    },
    {
      "cell_type": "code",
      "source": [
        "# How do you log information at different levels (INFO, ERROR, WARNING) in Python using the logging module?\n",
        "\n",
        "import logging\n",
        "\n",
        "logging.basicConfig(filename=\"app.log\", level=logging.DEBUG)\n",
        "\n",
        "logging.info(\"This is an info message.\")\n",
        "logging.warning(\"This is a warning message.\")\n",
        "logging.error(\"This is an error message.\")"
      ],
      "metadata": {
        "id": "SNj_0-Hhzr3v"
      },
      "execution_count": null,
      "outputs": []
    },
    {
      "cell_type": "code",
      "source": [
        "# Write a program to handle a file opening error using exception handling?\n",
        "\n",
        "try:\n",
        "    with open(\"nonexistent_file.txt\", \"r\") as file:\n",
        "        content = file.read()\n",
        "        print(content)\n",
        "except FileNotFoundError:\n",
        "    print(\"Error: The file could not be found.\")\n"
      ],
      "metadata": {
        "id": "jNDx3GTfzr1C"
      },
      "execution_count": null,
      "outputs": []
    },
    {
      "cell_type": "code",
      "source": [
        "# How can you read a file line by line and store its content in a list in Python?\n",
        "\n",
        "lines = []\n",
        "with open(\"example.txt\", \"r\") as file:\n",
        "    for line in file:\n",
        "        lines.append(line.strip())\n"
      ],
      "metadata": {
        "id": "g5-weprhzrvt"
      },
      "execution_count": null,
      "outputs": []
    },
    {
      "cell_type": "code",
      "source": [
        "# How can you append data to an existing file in Python?\n",
        "\n",
        "with open(\"example.txt\", \"a\") as file:\n",
        "    file.write(\"This text will be added at the end.\\n\")\n"
      ],
      "metadata": {
        "id": "S9uWdx7SzrsX"
      },
      "execution_count": null,
      "outputs": []
    },
    {
      "cell_type": "code",
      "source": [
        "# Write a Python program that uses a try-except block to handle an error when attempting to access a dictionary key that doesn't exist.\n",
        "\n",
        "my_dict = {\"a\": 1, \"b\": 2}\n",
        "\n",
        "try:\n",
        "    value = my_dict[\"c\"]\n",
        "except KeyError:\n",
        "    print(\"Error: Key does not exist in the dictionary.\")\n"
      ],
      "metadata": {
        "id": "kzCcxSJN1W3m"
      },
      "execution_count": null,
      "outputs": []
    },
    {
      "cell_type": "code",
      "source": [
        "# Write a program that demonstrates using multiple except blocks to handle different types of exceptions?\n",
        "\n",
        "try:\n",
        "    num = int(input(\"Enter a number: \"))\n",
        "    result = 10 / num\n",
        "except ValueError:\n",
        "    print(\"Error: Invalid input, please enter a valid integer.\")\n",
        "except ZeroDivisionError:\n",
        "    print(\"Error: Cannot divide by zero.\")\n",
        "except Exception as e:\n",
        "    print(f\"Unexpected error: {e}\")\n"
      ],
      "metadata": {
        "id": "2Ie62-GHzrpC"
      },
      "execution_count": null,
      "outputs": []
    },
    {
      "cell_type": "code",
      "source": [
        "# How would you check if a file exists before attempting to read it in Python?\n",
        "\n",
        "import os\n",
        "\n",
        "if os.path.exists(\"example.txt\"):\n",
        "    with open(\"example.txt\", \"r\") as file:\n",
        "        content = file.read()\n",
        "        print(content)\n",
        "else:\n",
        "    print(\"File does not exist.\")\n"
      ],
      "metadata": {
        "id": "bUY0W3OwzrmA"
      },
      "execution_count": null,
      "outputs": []
    },
    {
      "cell_type": "code",
      "source": [
        "# Write a program that uses the logging module to log both informational and error messages.\n",
        "\n",
        "import logging\n",
        "\n",
        "logging.basicConfig(filename=\"app.log\", level=logging.INFO,\n",
        "                    format=\"%(asctime)s - %(levelname)s - %(message)s\")\n",
        "\n",
        "logging.info(\"This is an informational message.\")\n",
        "try:\n",
        "    result = 10 / 0\n",
        "except ZeroDivisionError:\n",
        "    logging.error(\"Error occurred: Division by zero.\")\n"
      ],
      "metadata": {
        "id": "G6uI49Z7zrZX"
      },
      "execution_count": null,
      "outputs": []
    },
    {
      "cell_type": "code",
      "source": [
        "# Write a Python program that prints the content of a file and handles the case when the file is empty.\n",
        "\n",
        "try:\n",
        "    with open(\"example.txt\", \"r\") as file:\n",
        "        content = file.read()\n",
        "        if content:\n",
        "            print(content)\n",
        "        else:\n",
        "            print(\"The file is empty.\")\n",
        "except FileNotFoundError:\n",
        "    print(\"File does not exist.\")\n",
        "\n"
      ],
      "metadata": {
        "id": "sySo6ar4zrVC"
      },
      "execution_count": null,
      "outputs": []
    },
    {
      "cell_type": "code",
      "source": [
        "# Demonstrate how to use memory profiling to check the memory usage of a small program.\n",
        "\n",
        "pip install memory-profiler\n",
        "\n",
        "from memory_profiler import profile\n",
        "\n",
        "@profile\n",
        "def my_function():\n",
        "    numbers = [x for x in range(100000)]  # creates a big list\n",
        "    return sum(numbers)\n",
        "\n",
        "if __name__ == \"__main__\":\n",
        "    my_function()\n",
        "\n",
        "python -m memory_profiler your_script.py\n"
      ],
      "metadata": {
        "id": "5s3olyXz2RWZ"
      },
      "execution_count": null,
      "outputs": []
    },
    {
      "cell_type": "code",
      "source": [
        "# Write a Python program to create and write a list of numbers to a file, one number per line.\n",
        "\n",
        "numbers = [1, 2, 3, 4, 5]\n",
        "\n",
        "with open(\"numbers.txt\", \"w\") as file:\n",
        "    for number in numbers:\n",
        "        file.write(f\"{number}\\n\")\n"
      ],
      "metadata": {
        "id": "fDfw-m6S2tnr"
      },
      "execution_count": null,
      "outputs": []
    },
    {
      "cell_type": "code",
      "source": [
        "# How would you implement a basic logging setup that logs to a file with rotation after 1MB?\n",
        "\n",
        "import logging\n",
        "from logging.handlers import RotatingFileHandler\n",
        "\n",
        "logger = logging.getLogger(\"MyLogger\")\n",
        "logger.setLevel(logging.INFO)\n",
        "\n",
        "handler = RotatingFileHandler(\"app.log\", maxBytes=1_000_000, backupCount=3)\n",
        "formatter = logging.Formatter('%(asctime)s - %(levelname)s - %(message)s')\n",
        "handler.setFormatter(formatter)\n",
        "\n",
        "logger.addHandler(handler)\n",
        "\n",
        "logger.info(\"This is a log message.\")\n"
      ],
      "metadata": {
        "id": "9pEAk12S2RTN"
      },
      "execution_count": null,
      "outputs": []
    },
    {
      "cell_type": "code",
      "source": [
        "# Write a program that handles both IndexError and KeyError using a try-except block.\n",
        "\n",
        "my_list = [1, 2, 3]\n",
        "my_dict = {\"a\": 10, \"b\": 20}\n",
        "\n",
        "try:\n",
        "    print(my_list[5])      # This will raise IndexError\n",
        "    print(my_dict[\"c\"])    # This will raise KeyError\n",
        "except IndexError:\n",
        "    print(\"Error: List index out of range.\")\n",
        "except KeyError:\n",
        "    print(\"Error: Key not found in dictionary.\")\n"
      ],
      "metadata": {
        "id": "m37421ha2RPk"
      },
      "execution_count": null,
      "outputs": []
    },
    {
      "cell_type": "code",
      "source": [
        " # How would you open a file and read its contents using a context manager in Python?\n",
        "\n",
        "with open(\"example.txt\", \"r\") as file:\n",
        "    content = file.read()\n",
        "    print(content)\n"
      ],
      "metadata": {
        "id": "-HLlThE12RMp"
      },
      "execution_count": null,
      "outputs": []
    },
    {
      "cell_type": "code",
      "source": [
        "# Write a Python program that reads a file and prints the number of occurrences of a specific word.\n",
        "\n",
        "word_to_count = \"apple\"\n",
        "count = 0\n",
        "\n",
        "with open(\"example.txt\", \"r\") as file:\n",
        "    for line in file:\n",
        "        words = line.lower().split()\n",
        "        count += words.count(word_to_count.lower())\n",
        "\n",
        "print(f\"The word '{word_to_count}' occurs {count} times.\")\n"
      ],
      "metadata": {
        "id": "UccW2BF-2Q-8"
      },
      "execution_count": null,
      "outputs": []
    },
    {
      "cell_type": "code",
      "source": [
        "# How can you check if a file is empty before attempting to read its contents?\n",
        "\n",
        "import os\n",
        "\n",
        "filename = \"example.txt\"\n",
        "\n",
        "if os.path.exists(filename) and os.path.getsize(filename) > 0:\n",
        "    with open(filename, \"r\") as file:\n",
        "        content = file.read()\n",
        "        print(content)\n",
        "else:\n",
        "    print(\"File is empty or does not exist.\")\n"
      ],
      "metadata": {
        "id": "iISwLo424Mt-"
      },
      "execution_count": null,
      "outputs": []
    },
    {
      "cell_type": "code",
      "source": [
        "# Write a Python program that writes to a log file when an error occurs during file handling.\n",
        "\n",
        "import logging\n",
        "\n",
        "logging.basicConfig(filename=\"file_errors.log\", level=logging.ERROR,\n",
        "                    format=\"%(asctime)s - %(levelname)s - %(message)s\")\n",
        "\n",
        "try:\n",
        "    with open(\"nonexistent_file.txt\", \"r\") as file:\n",
        "        content = file.read()\n",
        "except Exception as e:\n",
        "    logging.error(f\"File handling error: {e}\")\n"
      ],
      "metadata": {
        "id": "4vCEipdm4Wkg"
      },
      "execution_count": null,
      "outputs": []
    }
  ]
}